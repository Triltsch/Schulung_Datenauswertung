{
 "cells": [
  {
   "cell_type": "markdown",
   "metadata": {},
   "source": [
    "# Energiedatenauswertung am Beispiel\n",
    "\n",
    "Im folgenden Teil sollen Daten aus der Energiedatenerfassung ausgewertet werden.\n",
    "Ein Beispieldatensatz wurde aus der Datenbank in die Datei \"db_export_CMX600T_2022-12-01.csv\" exportiert.\n",
    "\n",
    "Lesen wir diese Datei zunächst ein. Anders als im letzten Beispiel sind die Einzelnen Spalten mit Semikolon getrennt.\n",
    "Daher wird der sep-Parameter hier modifiziert:"
   ]
  },
  {
   "cell_type": "code",
   "execution_count": null,
   "metadata": {},
   "outputs": [],
   "source": [
    "import pandas as pd\n",
    "data = pd.read_csv(\"db_export_CMX600T_2022-12-01.csv\", sep = \";\")"
   ]
  },
  {
   "cell_type": "code",
   "execution_count": null,
   "metadata": {},
   "outputs": [],
   "source": [
    "data.info()"
   ]
  },
  {
   "cell_type": "markdown",
   "metadata": {},
   "source": [
    "Schauen wir uns die Daten noch einmal an, da hier kaum Zahlenwerte vorhanden sind:"
   ]
  },
  {
   "cell_type": "code",
   "execution_count": null,
   "metadata": {},
   "outputs": [],
   "source": [
    "data"
   ]
  },
  {
   "cell_type": "markdown",
   "metadata": {},
   "source": [
    "Auch die Zahlen sind hier in einem anderen Format, wir müssen die \",\" in \".\" wandeln."
   ]
  },
  {
   "cell_type": "code",
   "execution_count": null,
   "metadata": {},
   "outputs": [],
   "source": [
    "data = pd.read_csv(\"db_export_CMX600T_2022-12-01.csv\", sep = \";\", decimal=\",\")\n",
    "data"
   ]
  },
  {
   "cell_type": "markdown",
   "metadata": {},
   "source": [
    "Wir haben jetzt im Prinzip 2x einen Index. Der Originalindex ist in der Spalte ID eingetragen. Diesen können wir auch als Index für den DataFrame nutzen:"
   ]
  },
  {
   "cell_type": "code",
   "execution_count": null,
   "metadata": {},
   "outputs": [],
   "source": [
    "data = data.set_index('ID')\n",
    "data"
   ]
  },
  {
   "cell_type": "markdown",
   "metadata": {},
   "source": [
    "###  <font color = darkblue> Aufgabe</font>\n",
    "a) Erzeugen Sie einen neuen Dataframe, der nur den Zeitstempel_ms und die Wirkleistung_gesamt enthält!"
   ]
  },
  {
   "cell_type": "code",
   "execution_count": null,
   "metadata": {},
   "outputs": [],
   "source": [
    "df = data[...]\n"
   ]
  },
  {
   "cell_type": "markdown",
   "metadata": {},
   "source": [
    "b) Stellen Sie die Wirkleistung über der Zeit als Plot dar!"
   ]
  },
  {
   "cell_type": "code",
   "execution_count": null,
   "metadata": {},
   "outputs": [],
   "source": []
  },
  {
   "cell_type": "markdown",
   "metadata": {},
   "source": [
    "c) schauen Sie sich Bereiche an, z.B den ersten Peak."
   ]
  },
  {
   "cell_type": "code",
   "execution_count": null,
   "metadata": {},
   "outputs": [],
   "source": []
  },
  {
   "cell_type": "markdown",
   "metadata": {},
   "source": [
    "### Einschub: Alternative Bibliothek für intreaktive Diagramme\n",
    "\n",
    "Im Video aus dem Einstiegskurs wurde eine weitere Bibliothek vorgestellt, die eine interaktive Darstellung im Jupyter-Notebook ermöglicht. \n",
    "Es ist die altair-Bibliothek, auch diese Bibliothek ist im Python-Package-Index verfügbar:<br/>\n",
    "https://pypi.org/project/altair/\n",
    "\n",
    "Aber Achtung: die Bibliothek sorgt bei vielen Visualisierungen mit großen Datensätzen für sehr große Notebooks!"
   ]
  },
  {
   "cell_type": "code",
   "execution_count": null,
   "metadata": {},
   "outputs": [],
   "source": [
    "pip install altair --user"
   ]
  },
  {
   "cell_type": "code",
   "execution_count": null,
   "metadata": {},
   "outputs": [],
   "source": [
    "import altair as alt\n",
    "\n",
    "df = data[['Zeitstempel_ms','Wirkleistung_gesamt']]\n",
    "\n",
    "alt.data_transformers.disable_max_rows() # Eigentlich sind nur 5000 Zeilen erlaubt\n",
    "\n",
    "alt.Chart(df).mark_line().encode(\n",
    "    x='Zeitstempel_ms',\n",
    "    y='Wirkleistung_gesamt'\n",
    ").properties(\n",
    "    width=800,\n",
    "    height=300\n",
    ").interactive()"
   ]
  },
  {
   "cell_type": "markdown",
   "metadata": {},
   "source": [
    "### Ereignisse auswerten\n",
    "Offensichtlich passiert in diesem Ausschnitt an einigen Stellen eine Änderung der Betriebszustände. \n",
    "Wir versuchen nur automatisiert auszuwerten, zu welchem Zeitpunkt die Ereignisse auftreten.<br/>\n",
    "\n",
    "\n",
    "Erster Ansatz: Alle Punkte herausfiltern, die einen bestimmten Grenzwert überschreiten.\n",
    "\n",
    "#### Werte über einem Grenzwert filtern"
   ]
  },
  {
   "cell_type": "code",
   "execution_count": null,
   "metadata": {},
   "outputs": [],
   "source": [
    "df = data.loc[:,('Zeitstempel_ms','Wirkleistung_gesamt')]\n",
    "df['Grenzwert'] = df[df.Wirkleistung_gesamt > 750].Wirkleistung_gesamt\n",
    "\n",
    "number_of_samples = 6250\n",
    "df = df[0:number_of_samples]\n",
    "\n",
    "# Plot erzeugen\n",
    "fig, ax = plt.subplots(figsize=(10, 5))\n",
    "ax.plot(df.Zeitstempel_ms, df.Wirkleistung_gesamt, linewidth=1.0, color='b')\n",
    "ax.plot(df.Zeitstempel_ms, df.Grenzwert, linewidth=1.0, color='r')\n",
    "\n",
    "# Plot anzeigen\n",
    "plt.show()"
   ]
  },
  {
   "cell_type": "markdown",
   "metadata": {},
   "source": [
    "###  <font color = darkblue> Aufgabe</font>\n",
    "\n",
    "Filtern Sie alle Werte, die zwischen 600 und 750 liegen! Tipp: Zwei Bedingungen können mit & verknüpft werden!"
   ]
  },
  {
   "cell_type": "code",
   "execution_count": null,
   "metadata": {},
   "outputs": [],
   "source": [
    "df = data.loc[:,('Zeitstempel_ms','Wirkleistung_gesamt')]\n"
   ]
  },
  {
   "cell_type": "markdown",
   "metadata": {},
   "source": [
    "#### Gleitender Mittelwert als Filter\n",
    "\n",
    "Oft ist es eine gute Idee, die Daten zunächst zu glätten. Das kann z.B. mit dem gleitenden Mittelwert passieren."
   ]
  },
  {
   "cell_type": "code",
   "execution_count": null,
   "metadata": {},
   "outputs": [],
   "source": [
    "df = data.loc[:,('Zeitstempel_ms','Wirkleistung_gesamt')]\n",
    "df['Mittelwert'] = df['Wirkleistung_gesamt'].rolling(4).mean()\n",
    "\n",
    "number_of_samples = 6250\n",
    "df = df[0:number_of_samples]\n",
    "\n",
    "# Plot erzeugen\n",
    "fig, ax = plt.subplots(figsize=(10, 5))\n",
    "ax.plot(df.Zeitstempel_ms, df.Wirkleistung_gesamt, linewidth=1.0, color='b')\n",
    "ax.plot(df.Zeitstempel_ms, df.Mittelwert, linewidth=1.0, color='r')\n",
    "\n",
    "# Plot anzeigen\n",
    "plt.show()"
   ]
  },
  {
   "cell_type": "markdown",
   "metadata": {},
   "source": [
    "### Nutzung einfacher maschineller Lernalgorithmen zur Ausreißererkennung\n",
    "\n",
    "#### Beispiel: Unüberwachte Ausreißererkennung unter Verwendung des lokalen Ausreißerfaktors (LOF).\n",
    "\n",
    "Die Anomaliebewertung jeder Probe wird als lokaler Ausreißerfaktor bezeichnet. Er misst die lokale Abweichung der Dichte einer bestimmten Probe im Vergleich zu ihren Nachbarn. Er ist insofern lokal, als die Anomaliebewertung davon abhängt, wie isoliert das Objekt im Vergleich zu seiner Umgebung ist. Genauer gesagt ist die Lokalität durch die k-ächsten Nachbarn gegeben, deren Abstand zur Schätzung der lokalen Dichte verwendet wird. Durch den Vergleich der lokalen Dichte einer Probe mit den lokalen Dichten ihrer Nachbarn lassen sich Proben identifizieren, die eine wesentlich geringere Dichte als ihre Nachbarn aufweisen. Diese werden als Ausreißer bezeichnet.\n",
    "\n",
    "Wir nutzen wieder eine Bibliothek. Diesmal scikit-learn eine Bibliothek für maschinelles Lernen:<br/>\n",
    "https://pypi.org/project/scikit-learn/\n"
   ]
  },
  {
   "cell_type": "code",
   "execution_count": null,
   "metadata": {},
   "outputs": [],
   "source": [
    "# Bibliothek importieren\n",
    "from sklearn.neighbors import LocalOutlierFactor\n",
    "\n",
    "# Wirkleistung umformatieren in einen Wertebereich zwischen -1 und 1\n",
    "x = np.array(df['Wirkleistung_gesamt']).reshape(-1,1)\n",
    "\n",
    "# Wir arbeiten mit den n-n*0.1 nächsten Nachbarn\n",
    "model = LocalOutlierFactor(n_neighbors = int(number_of_samples - number_of_samples * 0.1))\n",
    "\n",
    "\n",
    "label = model.fit_predict(x)\n",
    "label"
   ]
  },
  {
   "cell_type": "markdown",
   "metadata": {},
   "source": [
    "Alle Werte, die als Ausreißer identifiziert wurden sind mit -1 gelabelt. Plotten wir diese als Punkte:                                "
   ]
  },
  {
   "cell_type": "code",
   "execution_count": null,
   "metadata": {},
   "outputs": [],
   "source": [
    "# Erzeuge 2 leere Listen\n",
    "x = []\n",
    "y = []\n",
    "\n",
    "for i in range(len(label)):\n",
    "    if label[i]!=1:\n",
    "        x.append(df.iloc[i, 0])\n",
    "        y.append(df.iloc[i, 1])\n",
    "\n",
    "# Plot erzeugen\n",
    "fig, ax = plt.subplots(figsize=(10, 5))\n",
    "ax.plot(df.Zeitstempel_ms, df.Wirkleistung_gesamt, linewidth = 1.0, color = 'b')\n",
    "ax.scatter(x, y, color = 'r', marker = 'o')\n",
    "\n",
    "# Plot anzeigen\n",
    "plt.show()"
   ]
  },
  {
   "cell_type": "markdown",
   "metadata": {},
   "source": [
    "###  <font color = darkblue> Aufgabe</font>\n",
    "Ändern Sie die Außreißererkennung so ab, dass Sie immer in Abschnitten von 250 Samples nach Ausreißern suchen.\n",
    "Es sollen also 25 Abschnitte untersucht werden.\n",
    "Nutzen Sie das Code Template unten. Was beobachten Sie?"
   ]
  },
  {
   "cell_type": "code",
   "execution_count": null,
   "metadata": {},
   "outputs": [],
   "source": [
    "df = data.loc[:,('Zeitstempel_ms','Wirkleistung_gesamt')]\n",
    "\n",
    "number_of_samples = 250\n",
    "# Das Modell müssen wir nur einmal erzeugen\n",
    "model = LocalOutlierFactor(n_neighbors = int(number_of_samples - number_of_samples * 0.1))\n",
    "\n",
    "for i in range(25):\n",
    "    # Was macht diese Zeile?\n",
    "    df1 = df[i * number_of_samples:(i * number_of_samples + number_of_samples)] \n",
    "    \n",
    "    # Wirkleistung umformatieren in einen Wertebereich zwischen -1 und 1\n",
    "    \n",
    "    # Ihr Code...\n"
   ]
  },
  {
   "cell_type": "markdown",
   "metadata": {},
   "source": [
    "###  <font color = darkblue> Aufgabe</font>\n",
    "\n",
    "Vesuchen Sie nun mit Hilfe des Gelernten eine Auswertung zu schreiben, welche ermittelt, wenn die Tür zu lange geschlossen bleibt, ohne dass eine Bearbeitung gestartet wurde."
   ]
  },
  {
   "cell_type": "code",
   "execution_count": null,
   "metadata": {},
   "outputs": [],
   "source": []
  }
 ],
 "metadata": {
  "kernelspec": {
   "display_name": "Python 3",
   "language": "python",
   "name": "python3"
  },
  "language_info": {
   "codemirror_mode": {
    "name": "ipython",
    "version": 3
   },
   "file_extension": ".py",
   "mimetype": "text/x-python",
   "name": "python",
   "nbconvert_exporter": "python",
   "pygments_lexer": "ipython3",
   "version": "3.8.5"
  }
 },
 "nbformat": 4,
 "nbformat_minor": 4
}
